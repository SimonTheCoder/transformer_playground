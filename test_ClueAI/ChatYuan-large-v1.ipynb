{
 "cells": [
  {
   "cell_type": "code",
   "execution_count": 1,
   "metadata": {},
   "outputs": [
    {
     "name": "stderr",
     "output_type": "stream",
     "text": [
      "d:\\python\\python3.10.8\\lib\\site-packages\\tqdm\\auto.py:22: TqdmWarning: IProgress not found. Please update jupyter and ipywidgets. See https://ipywidgets.readthedocs.io/en/stable/user_install.html\n",
      "  from .autonotebook import tqdm as notebook_tqdm\n",
      "Downloading (…)\"spiece.model\";: 100%|██████████| 742k/742k [00:02<00:00, 266kB/s]\n",
      "d:\\python\\python3.10.8\\lib\\site-packages\\huggingface_hub\\file_download.py:129: UserWarning: `huggingface_hub` cache-system uses symlinks by default to efficiently store duplicated files but your machine does not support them in D:\\python\\huggingface_cache. Caching files will still work but in a degraded version that might require more space on your disk. This warning can be disabled by setting the `HF_HUB_DISABLE_SYMLINKS_WARNING` environment variable. For more details, see https://huggingface.co/docs/huggingface_hub/how-to-cache#limitations.\n",
      "To support symlinks on Windows, you either need to activate Developer Mode or to run Python as an administrator. In order to see activate developer mode, see this article: https://docs.microsoft.com/en-us/windows/apps/get-started/enable-your-device-for-development\n",
      "  warnings.warn(message)\n",
      "Downloading (…)okenizer_config.json: 100%|██████████| 1.86k/1.86k [00:00<00:00, 1.86MB/s]\n",
      "Downloading (…)lve/main/config.json: 100%|██████████| 727/727 [00:00<00:00, 364kB/s]\n",
      "Downloading (…)\"pytorch_model.bin\";: 100%|██████████| 3.13G/3.13G [09:01<00:00, 5.79MB/s] \n"
     ]
    }
   ],
   "source": [
    "# 加载模型\n",
    "from transformers import T5Tokenizer, T5ForConditionalGeneration\n",
    "tokenizer = T5Tokenizer.from_pretrained(\"ClueAI/ChatYuan-large-v1\")\n",
    "model = T5ForConditionalGeneration.from_pretrained(\"ClueAI/ChatYuan-large-v1\")\n"
   ]
  },
  {
   "cell_type": "code",
   "execution_count": 2,
   "metadata": {},
   "outputs": [
    {
     "name": "stdout",
     "output_type": "stream",
     "text": [
      "end...\n"
     ]
    }
   ],
   "source": [
    "# 使用\n",
    "import torch\n",
    "from transformers import AutoTokenizer\n",
    "# 修改colab笔记本设置为gpu，推理更快\n",
    "device = torch.device('cuda')\n",
    "model.to(device)\n",
    "def preprocess(text):\n",
    "  text = text.replace(\"\\n\", \"\\\\n\").replace(\"\\t\", \"\\\\t\")\n",
    "  return text\n",
    "\n",
    "def postprocess(text):\n",
    "  return text.replace(\"\\\\n\", \"\\n\").replace(\"\\\\t\", \"\\t\")\n",
    "\n",
    "def answer(text, sample=True, top_p=1, temperature=0.7):\n",
    "  '''sample：是否抽样。生成任务，可以设置为True;\n",
    "  top_p：0-1之间，生成的内容越多样'''\n",
    "  text = preprocess(text)\n",
    "  encoding = tokenizer(text=[text], truncation=True, padding=True, max_length=768, return_tensors=\"pt\").to(device) \n",
    "  if not sample:\n",
    "    out = model.generate(**encoding, return_dict_in_generate=True, output_scores=False, max_new_tokens=512, num_beams=1, length_penalty=0.6)\n",
    "  else:\n",
    "    out = model.generate(**encoding, return_dict_in_generate=True, output_scores=False, max_new_tokens=512, do_sample=True, top_p=top_p, temperature=temperature, no_repeat_ngram_size=3)\n",
    "  out_text = tokenizer.batch_decode(out[\"sequences\"], skip_special_tokens=True)\n",
    "  return postprocess(out_text[0])\n",
    "print(\"end...\")\n"
   ]
  },
  {
   "cell_type": "code",
   "execution_count": 3,
   "metadata": {},
   "outputs": [
    {
     "data": {
      "text/plain": [
       "'山色空蒙蒙。'"
      ]
     },
     "execution_count": 3,
     "metadata": {},
     "output_type": "execute_result"
    }
   ],
   "source": [
    "answer(\"白日依山尽，\")"
   ]
  },
  {
   "cell_type": "code",
   "execution_count": 4,
   "metadata": {},
   "outputs": [
    {
     "data": {
      "text/plain": [
       "'在《红楼梦》里是宝玉的表妹，也是他的姐姐。她叫贾母，是贾宝玉的堂姐妹，贾母是贾雨村的表姐。贾母的生母是薛氏。贾雨村位于天津的东郊，属于天津市的西青区。据说，贾雨村人很能干，在村里人眼里，是个重情重义的好媳妇，是村里的“贤妻良母”，在贾家，娶了个妻子叫贾蔷，后来贾蔷出嫁，贾家便有了贾蔷。贾蔷是贾家最小的女儿，贾蔷生了一个儿子叫贾雨，当时贾雨住在贾府里，贾府只有贾雨一家住，贾家的女主人叫贾霞，贾霞是贾家的长女，贾宝玉的小姑子，贾瑞的奶奶，贾琏的奶奶。贾家三个女儿，是名副其实的“贾家三朵金花”。贾宝玉和贾雨村里人说，贾水儿，就是贾宝玉与贾雨家的“二丫”，贾云，就是他的二丫。贾水，贾小草，贾小雨，贾月琴，贾三丫'"
      ]
     },
     "execution_count": 4,
     "metadata": {},
     "output_type": "execute_result"
    }
   ],
   "source": [
    "answer(\"天王盖地虎，\")"
   ]
  },
  {
   "cell_type": "code",
   "execution_count": 5,
   "metadata": {},
   "outputs": [
    {
     "data": {
      "text/plain": [
       "'(void) { if (number == 0) throw new RandomNormal(0, 0, 0)\\n\\t\\treturn 0; } else { number1 = 0; num...'"
      ]
     },
     "execution_count": 5,
     "metadata": {},
     "output_type": "execute_result"
    }
   ],
   "source": [
    "answer(\"生成一段python脚本。用来生成一个0到42之间的随机数。\")"
   ]
  },
  {
   "cell_type": "code",
   "execution_count": 7,
   "metadata": {},
   "outputs": [
    {
     "data": {
      "text/plain": [
       "'。'"
      ]
     },
     "execution_count": 7,
     "metadata": {},
     "output_type": "execute_result"
    }
   ],
   "source": [
    "answer(\"请补全？部分：白日依山尽，？？？？？；？？？？？，更上一层楼\")"
   ]
  },
  {
   "cell_type": "code",
   "execution_count": null,
   "metadata": {},
   "outputs": [],
   "source": []
  }
 ],
 "metadata": {
  "kernelspec": {
   "display_name": "Python 3",
   "language": "python",
   "name": "python3"
  },
  "language_info": {
   "codemirror_mode": {
    "name": "ipython",
    "version": 3
   },
   "file_extension": ".py",
   "mimetype": "text/x-python",
   "name": "python",
   "nbconvert_exporter": "python",
   "pygments_lexer": "ipython3",
   "version": "3.10.8"
  },
  "orig_nbformat": 4,
  "vscode": {
   "interpreter": {
    "hash": "259359ff753ef8fff8b2dc0a76242aa7d3d1cc2ae85bf1d7b68e56dd842375cd"
   }
  }
 },
 "nbformat": 4,
 "nbformat_minor": 2
}
